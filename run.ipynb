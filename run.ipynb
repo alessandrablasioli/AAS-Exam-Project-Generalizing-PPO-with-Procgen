{
 "cells": [
  {
   "cell_type": "code",
   "execution_count": null,
   "id": "953e0254",
   "metadata": {
    "vscode": {
     "languageId": "plaintext"
    }
   },
   "outputs": [],
   "source": [
    "import prov"
   ]
  },
  {
   "cell_type": "code",
   "execution_count": null,
   "id": "4a5b27f0",
   "metadata": {
    "vscode": {
     "languageId": "plaintext"
    }
   },
   "outputs": [],
   "source": [
    "!python prov.py"
   ]
  }
 ],
 "metadata": {
  "language_info": {
   "name": "python"
  }
 },
 "nbformat": 4,
 "nbformat_minor": 5
}
